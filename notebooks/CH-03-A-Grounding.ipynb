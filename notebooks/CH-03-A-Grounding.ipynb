{
 "cells": [
  {
   "cell_type": "markdown",
   "metadata": {},
   "source": [
    "# Reto 03-A-Grounding (Fundamentación) "
   ]
  },
  {
   "cell_type": "markdown",
   "metadata": {},
   "source": [
    "## 1. Descripción General \n",
    "\n",
    "La Fundamentación (Grounding) es una técnica utilizada cuando deseas que el modelo devuelva respuestas fiables a una pregunta dada. A menudo, los modelos GPT necesitarán contexto adicional para proporcionar una respuesta que no alucine, también conocida como dar respuestas falsas. Recuerda que estos modelos GPT solo han sido entrenados con datos hasta septiembre de 2021. Además, los modelos no han sido entrenados con datos específicos de casos de uso.\n",
    "\n",
    "Existen un par de métodos para llevar a cabo la fundamentación. En este escenario, nos centraremos principalmente en el grounding básico dentro del prompt. En el reto cuatro, verás otras aplicaciones de fundamentación utilizando una base de conocimientos externa e implementando la técnica de Generación Aumentada con Recuperación, o RAG.\n",
    "\n",
    "Para entender los conceptos básicos de la fundamentación y sus beneficios, este notebook te guiará a través de un ejemplo. A continuación se muestra el escenario que incorporaremos.\n",
    "\n",
    "## 2. Escenario\n",
    "\n",
    "Estás escribiendo un informe sobre el torneo de tenis de Wimbledon y necesitas discutir el último partido. Descubre quién fue el ganador de los individuales masculinos y femeninos en 2023."
   ]
  },
  {
   "cell_type": "markdown",
   "metadata": {},
   "source": [
    "## 3. Comencemos con la Implementación\n",
    "\n",
    "Necesitarás importar los módulos necesarios. Las siguientes celdas son pasos clave de configuración que completaste en las tareas anteriores."
   ]
  },
  {
   "cell_type": "code",
   "execution_count": 15,
   "metadata": {},
   "outputs": [
    {
     "data": {
      "text/plain": [
       "True"
      ]
     },
     "execution_count": 15,
     "metadata": {},
     "output_type": "execute_result"
    }
   ],
   "source": [
    "import openai\n",
    "import os\n",
    "import json\n",
    "\n",
    "from dotenv import load_dotenv, find_dotenv\n",
    "load_dotenv(find_dotenv())"
   ]
  },
  {
   "cell_type": "markdown",
   "metadata": {},
   "source": [
    "Configura tu entorno para acceder a tus claves de Azure OpenAI. Consulta tu recurso de Azure OpenAI en el Portal de Azure para obtener información sobre tu punto de conexión y tus claves de Azure OpenAI.\n",
    "\n",
    "Por razones de seguridad, almacena tu información sensible en un archivo .env."
   ]
  },
  {
   "cell_type": "code",
   "execution_count": 16,
   "metadata": {},
   "outputs": [],
   "source": [
    "API_KEY = os.getenv(\"OPENAI_API_KEY\")\n",
    "assert API_KEY, \"ERROR: Azure OpenAI Key is missing\"\n",
    "openai.api_key = API_KEY\n",
    "\n",
    "RESOURCE_ENDPOINT = os.getenv(\"OPENAI_API_BASE\",\"\").strip()\n",
    "assert RESOURCE_ENDPOINT, \"ERROR: Azure OpenAI Endpoint is missing\"\n",
    "assert \"openai.azure.com\" in RESOURCE_ENDPOINT.lower(), \"ERROR: Azure OpenAI Endpoint should be in the form: \\n\\n\\t<your unique endpoint identifier>.openai.azure.com\"\n",
    "openai.api_base = RESOURCE_ENDPOINT\n",
    "\n",
    "openai.api_type = os.getenv(\"OPENAI_API_TYPE\")\n",
    "openai.api_version = os.getenv(\"OPENAI_API_VERSION\")\n",
    "\n",
    "model=os.getenv(\"CHAT_MODEL_NAME\")"
   ]
  },
  {
   "cell_type": "markdown",
   "metadata": {},
   "source": [
    "### 3.0 Funciones Auxiliares\n",
    "\n",
    "**get_completion** ayuda a crear una respuesta de OpenAI utilizando el modelo de completado de texto de tu elección."
   ]
  },
  {
   "cell_type": "code",
   "execution_count": 17,
   "metadata": {},
   "outputs": [],
   "source": [
    "def get_chat_completion(prompt, model=model):\n",
    "    messages = [{\"role\": \"user\", \"content\": prompt}]\n",
    "    response = openai.ChatCompletion.create(\n",
    "        engine=model,\n",
    "        messages=messages,\n",
    "        temperature=0, # this is the degree of randomness of the model's output\n",
    "        max_tokens = 200,\n",
    "        top_p = 1.0\n",
    "    )\n",
    "    return response.choices[0].message[\"content\"]"
   ]
  },
  {
   "attachments": {},
   "cell_type": "markdown",
   "metadata": {},
   "source": [
    "### 3.1 Antes de la Fundamentación\n",
    "\n",
    "#### Tarea #1 del Estudiante:\n",
    "\n",
    "Edita el prompt en la celda siguiente para hacerle una pregunta al modelo sobre el escenario.\n",
    "\n",
    "Scenario: You are writing a report on the Wimbledon tennis tournament and need to discuss the latest match. Find out who the 2023 winner was for the mens and womens singles."
   ]
  },
  {
   "cell_type": "code",
   "execution_count": 18,
   "metadata": {},
   "outputs": [
    {
     "name": "stdout",
     "output_type": "stream",
     "text": [
      "Response: Lo siento, como modelo de lenguaje de inteligencia artificial, no tengo acceso a información futura. No puedo proporcionar información sobre el ganador o la ganadora del Wimbledon tennis tournament en 2023. Sin embargo, puedo ayudarte a buscar información sobre los ganadores de años anteriores si lo deseas. ¿Te gustaría que busque esa información para ti?\n",
      "\n"
     ]
    }
   ],
   "source": [
    "prompt = f\"\"\"\n",
    "Estoy escribiendo un reporte sobre el \"Wimbledon tennis tournament\" y necesito discutir sobre el ultimo partido.\n",
    "Necesito que encuentres quien fue la ganadora y el ganador de 2023 para modalidad solitaria.\n",
    "Si no tienes la informacion, buscala en la web\n",
    "\"\"\"\n",
    "\n",
    "model_response = get_chat_completion(prompt, model=model)\n",
    "print(f\"Response: {model_response}\\n\")\n"
   ]
  },
  {
   "cell_type": "markdown",
   "metadata": {},
   "source": [
    "¿Es esta la respuesta que esperabas?"
   ]
  },
  {
   "attachments": {},
   "cell_type": "markdown",
   "metadata": {},
   "source": [
    "### 3.2 Después de la Fundamentación\n",
    "\n",
    "#### Tarea #2 del Estudiante:\n",
    "\n",
    "Modifica el prompt a continuación para fundamentar el modelo. ¿Cómo puedes obtener una respuesta más precisa que la que recibiste anteriormente?"
   ]
  },
  {
   "cell_type": "code",
   "execution_count": 19,
   "metadata": {},
   "outputs": [
    {
     "name": "stdout",
     "output_type": "stream",
     "text": [
      "Response: El torneo de Wimbledon de 2023 fue un evento emocionante y lleno de sorpresas. En la categoría femenina, la tenista checa Markéta Vondroušová se coronó campeona tras vencer a la estadounidense Sofia Kenin en una final muy disputada. Vondroušová demostró un gran nivel de juego y una gran determinación para llevarse el título.\n",
      "\n",
      "En la categoría masculina, el joven tenista español Carlos Alcaraz se convirtió en el campeón más joven de la historia de Wimbledon al vencer al suizo Roger Federer en una final épica. Alcaraz, de tan solo 18 años, mostró un gran talento y una gran madurez en la cancha para superar a uno de los mejores tenistas de todos los tiempos.\n",
      "\n",
      "En general, el torneo de Wimbledon de 2023 fue un\n",
      "\n"
     ]
    }
   ],
   "source": [
    "prompt = f\"\"\"\n",
    "Estoy escribiendo un reporte sobre el \"Wimbledon tennis tournament\" y necesito discutir sobre el último partido.\n",
    "Los ganadores del torneo de 2023 en modalidad individual fueron Markéta Vondroušová en la categoría femenina y Carlos Alcaraz en la categoría masculina.\n",
    "Por favor, elabora un resumen del torneo destacando estos resultados.\n",
    "\"\"\"\n",
    "\n",
    "model_response = get_chat_completion(prompt, model=model)\n",
    "print(f\"Response: {model_response}\\n\")\n",
    "\n"
   ]
  },
  {
   "cell_type": "markdown",
   "metadata": {},
   "source": [
    "¿Es esta la respuesta que esperabas para ayudarte a escribir tu informe?"
   ]
  },
  {
   "cell_type": "markdown",
   "metadata": {},
   "source": [
    "## Criterios de Éxito\n",
    "\n",
    "Para completar este desafío con éxito:\n",
    "\n",
    "* Demuestra que has comprendido cómo fundamentar un modelo y por qué es importante.\n",
    "* Asegúrate de obtener una respuesta precisa a tu pregunta que te ayudará a completar el escenario descrito al principio del desafío.\n"
   ]
  }
 ],
 "metadata": {
  "kernelspec": {
   "display_name": ".venv",
   "language": "python",
   "name": "python3"
  },
  "language_info": {
   "codemirror_mode": {
    "name": "ipython",
    "version": 3
   },
   "file_extension": ".py",
   "mimetype": "text/x-python",
   "name": "python",
   "nbconvert_exporter": "python",
   "pygments_lexer": "ipython3",
   "version": "3.12.4"
  },
  "orig_nbformat": 4
 },
 "nbformat": 4,
 "nbformat_minor": 2
}
